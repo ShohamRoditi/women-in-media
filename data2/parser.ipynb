{
 "cells": [
  {
   "cell_type": "code",
   "execution_count": 1,
   "metadata": {},
   "outputs": [],
   "source": [
    "import requests\n",
    "import json"
   ]
  },
  {
   "cell_type": "code",
   "execution_count": 11,
   "metadata": {},
   "outputs": [],
   "source": [
    "URL = \"http://localhost:8000/yap/heb/joint\"\n",
    "PARAMS = {\"text\": \"גנן גידל דגן בגן  \"}\n",
    "r = requests.get(url = URL, json = PARAMS) "
   ]
  },
  {
   "cell_type": "code",
   "execution_count": 12,
   "metadata": {},
   "outputs": [
    {
     "name": "stdout",
     "output_type": "stream",
     "text": [
      "Success!\n"
     ]
    }
   ],
   "source": [
    "if r:\n",
    "    print('Success!')\n",
    "else:\n",
    "    print('An error has occurred.')"
   ]
  },
  {
   "cell_type": "code",
   "execution_count": 17,
   "metadata": {},
   "outputs": [],
   "source": [
    "result = r.content"
   ]
  },
  {
   "cell_type": "code",
   "execution_count": 19,
   "metadata": {},
   "outputs": [
    {
     "name": "stdout",
     "output_type": "stream",
     "text": [
      "{\"ma_lattice\":\"0\\t1\\tגנן\\tגינן\\tVB\\tVB\\tgen=M|num=S|per=2|tense=IMPERATIVE\\t1\\n0\\t1\\tגנן\\tגן\\tNN\\tNN\\tgen=M|num=S|suf_gen=F|suf_num=P|suf_per=3\\t1\\n0\\t1\\tגנן\\tגנן\\tNN\\tNN\\tgen=M|num=S\\t1\\n0\\t1\\tגנן\\tגנן\\tNNT\\tNNT\\tgen=M|num=S\\t1\\n0\\t1\\tגנן\\tגינן\\tVB\\tVB\\tgen=M|num=S|per=3|tense=PAST\\t1\\n1\\t2\\tגידל\\tגידל\\tVB\\tVB\\tgen=M|num=S|per=3|tense=PAST\\t2\\n2\\t3\\tדג\\tדג\\tBN\\tBN\\tgen=M|num=S|per=A\\t3\\n2\\t5\\tדגן\\tדגן\\tNNP\\tNNP\\tgen=M|num=S\\t3\\n2\\t5\\tדגן\\tדג\\tNN\\tNN\\tgen=M|num=S|suf_gen=F|suf_num=P|suf_per=3\\t3\\n2\\t5\\tדגן\\tדגן\\tNN\\tNN\\tgen=M|num=S\\t3\\n2\\t5\\tדגן\\tדגן\\tNNT\\tNNT\\tgen=M|num=S\\t3\\n3\\t4\\tאת\\tאת\\tPOS\\tPOS\\t_\\t3\\n4\\t5\\tהן\\tהן\\tS_PRN\\tS_PRN\\tgen=F|num=P|per=3\\t3\\n5\\t6\\tב\\tב\\tPREPOSITION\\tPREPOSITION\\t_\\t4\\n5\\t8\\tבגן\\tבגן\\tNNP\\tNNP\\tgen=M|num=S\\t4\\n5\\t8\\tבגן\\tבגן\\tNN\\tNN\\tgen=M|num=P|num=S\\t4\\n5\\t8\\tבגן\\tבגן\\tNN\\tNN\\tgen=M|num=S\\t4\\n5\\t8\\tבגן\\tבגן\\tNNP\\tNNP\\tgen=F|num=S\\t4\\n5\\t8\\tבגן\\tבגן\\tNNP\\tNNP\\tgen=F|gen=M|num=S\\t4\\n5\\t8\\tבגן\\tבגן\\tNNP\\tNNP\\t_\\t4\\n5\\t8\\tבגן\\tבגן\\tNN\\tNN\\tgen=M|num=P\\t4\\n5\\t8\\tבגן\\tבגן\\tNN\\tNN\\tgen=F|num=S\\t4\\n5\\t8\\tבגן\\tבגן\\tNN\\tNN\\tgen=F|num=P\\t4\\n6\\t8\\tגן\\tגן\\tNN\\tNN\\tgen=M|num=S\\t4\\n6\\t8\\tגן\\tגן\\tNNT\\tNNT\\tgen=M|num=S\\t4\\n6\\t7\\tה\\tה\\tDEF\\tDEF\\t_\\t4\\n7\\t8\\tגן\\tגן\\tNNT\\tNNT\\tgen=M|num=S\\t4\\n7\\t8\\tגן\\tגן\\tNN\\tNN\\tgen=M|num=S\\t4\\n\\n\",\"md_lattice\":\"0\\t1\\tגנן\\tגנן\\tNN\\tNN\\tgen=M|num=S\\t1\\n1\\t2\\tגידל\\tגידל\\tVB\\tVB\\tgen=M|num=S|per=3|tense=PAST\\t2\\n2\\t3\\tדגן\\tדגן\\tNN\\tNN\\tgen=M|num=S\\t3\\n3\\t4\\tב\\tב\\tPREPOSITION\\tPREPOSITION\\t_\\t4\\n4\\t5\\tה\\tה\\tDEF\\tDEF\\t_\\t4\\n5\\t6\\tגן\\tגן\\tNN\\tNN\\tgen=M|num=S\\t4\\n\\n\",\"dep_tree\":\"1\\tגנן\\tגנן\\tNN\\tNN\\tgen=M|num=S\\t2\\tsubj\\t_\\t_\\n2\\tגידל\\tגידל\\tVB\\tVB\\tgen=M|num=S|per=3|tense=PAST\\t0\\tROOT\\t_\\t_\\n3\\tדגן\\tדגן\\tNN\\tNN\\tgen=M|num=S\\t2\\tobj\\t_\\t_\\n4\\tב\\tב\\tPREPOSITION\\tPREPOSITION\\t\\t2\\tprepmod\\t_\\t_\\n5\\tה\\tה\\tDEF\\tDEF\\t\\t6\\tdef\\t_\\t_\\n6\\tגן\\tגן\\tNN\\tNN\\tgen=M|num=S\\t4\\tpobj\\t_\\t_\\n\\n\"}\n"
     ]
    }
   ],
   "source": [
    "text = result.decode('utf-8')\n",
    "print(text)"
   ]
  },
  {
   "cell_type": "code",
   "execution_count": 22,
   "metadata": {},
   "outputs": [],
   "source": [
    "d = json.loads(text)"
   ]
  },
  {
   "cell_type": "code",
   "execution_count": 25,
   "metadata": {},
   "outputs": [
    {
     "name": "stdout",
     "output_type": "stream",
     "text": [
      "0\t1\tגנן\tגינן\tVB\tVB\tgen=M|num=S|per=2|tense=IMPERATIVE\t1\n",
      "0\t1\tגנן\tגן\tNN\tNN\tgen=M|num=S|suf_gen=F|suf_num=P|suf_per=3\t1\n",
      "0\t1\tגנן\tגנן\tNN\tNN\tgen=M|num=S\t1\n",
      "0\t1\tגנן\tגנן\tNNT\tNNT\tgen=M|num=S\t1\n",
      "0\t1\tגנן\tגינן\tVB\tVB\tgen=M|num=S|per=3|tense=PAST\t1\n",
      "1\t2\tגידל\tגידל\tVB\tVB\tgen=M|num=S|per=3|tense=PAST\t2\n",
      "2\t3\tדג\tדג\tBN\tBN\tgen=M|num=S|per=A\t3\n",
      "2\t5\tדגן\tדגן\tNNP\tNNP\tgen=M|num=S\t3\n",
      "2\t5\tדגן\tדג\tNN\tNN\tgen=M|num=S|suf_gen=F|suf_num=P|suf_per=3\t3\n",
      "2\t5\tדגן\tדגן\tNN\tNN\tgen=M|num=S\t3\n",
      "2\t5\tדגן\tדגן\tNNT\tNNT\tgen=M|num=S\t3\n",
      "3\t4\tאת\tאת\tPOS\tPOS\t_\t3\n",
      "4\t5\tהן\tהן\tS_PRN\tS_PRN\tgen=F|num=P|per=3\t3\n",
      "5\t6\tב\tב\tPREPOSITION\tPREPOSITION\t_\t4\n",
      "5\t8\tבגן\tבגן\tNNP\tNNP\tgen=M|num=S\t4\n",
      "5\t8\tבגן\tבגן\tNN\tNN\tgen=M|num=P|num=S\t4\n",
      "5\t8\tבגן\tבגן\tNN\tNN\tgen=M|num=S\t4\n",
      "5\t8\tבגן\tבגן\tNNP\tNNP\tgen=F|num=S\t4\n",
      "5\t8\tבגן\tבגן\tNNP\tNNP\tgen=F|gen=M|num=S\t4\n",
      "5\t8\tבגן\tבגן\tNNP\tNNP\t_\t4\n",
      "5\t8\tבגן\tבגן\tNN\tNN\tgen=M|num=P\t4\n",
      "5\t8\tבגן\tבגן\tNN\tNN\tgen=F|num=S\t4\n",
      "5\t8\tבגן\tבגן\tNN\tNN\tgen=F|num=P\t4\n",
      "6\t8\tגן\tגן\tNN\tNN\tgen=M|num=S\t4\n",
      "6\t8\tגן\tגן\tNNT\tNNT\tgen=M|num=S\t4\n",
      "6\t7\tה\tה\tDEF\tDEF\t_\t4\n",
      "7\t8\tגן\tגן\tNNT\tNNT\tgen=M|num=S\t4\n",
      "7\t8\tגן\tגן\tNN\tNN\tgen=M|num=S\t4\n",
      "\n",
      "\n"
     ]
    }
   ],
   "source": [
    "print(d['ma_lattice'])"
   ]
  },
  {
   "cell_type": "code",
   "execution_count": null,
   "metadata": {},
   "outputs": [],
   "source": []
  }
 ],
 "metadata": {
  "kernelspec": {
   "display_name": "Python 3",
   "language": "python",
   "name": "python3"
  },
  "language_info": {
   "codemirror_mode": {
    "name": "ipython",
    "version": 3
   },
   "file_extension": ".py",
   "mimetype": "text/x-python",
   "name": "python",
   "nbconvert_exporter": "python",
   "pygments_lexer": "ipython3",
   "version": "3.7.4"
  }
 },
 "nbformat": 4,
 "nbformat_minor": 2
}
