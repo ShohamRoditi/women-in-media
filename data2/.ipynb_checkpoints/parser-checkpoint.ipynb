{
 "cells": [
  {
   "cell_type": "code",
   "execution_count": 13,
   "metadata": {},
   "outputs": [],
   "source": [
    "import requests\n",
    "import json"
   ]
  },
  {
   "cell_type": "code",
   "execution_count": 38,
   "metadata": {},
   "outputs": [],
   "source": [
    "URL = \"http://localhost:8000/yap/heb/joint\"\n",
    "PARAMS = {\"text\": \"גננת גידלה דגן בגן  \"}\n",
    "r = requests.get(url = URL, json = PARAMS) "
   ]
  },
  {
   "cell_type": "code",
   "execution_count": 39,
   "metadata": {},
   "outputs": [
    {
     "name": "stdout",
     "output_type": "stream",
     "text": [
      "Success!\n"
     ]
    }
   ],
   "source": [
    "if r:\n",
    "    print('Success!')\n",
    "else:\n",
    "    print('An error has occurred.')"
   ]
  },
  {
   "cell_type": "code",
   "execution_count": 40,
   "metadata": {},
   "outputs": [],
   "source": [
    "result = r.content"
   ]
  },
  {
   "cell_type": "code",
   "execution_count": 41,
   "metadata": {},
   "outputs": [
    {
     "name": "stdout",
     "output_type": "stream",
     "text": [
      "{\"ma_lattice\":\"0\\t1\\tגננת\\tגינן\\tVB\\tVB\\tgen=F|num=S|per=2|tense=PAST\\t1\\n0\\t1\\tגננת\\tגננת\\tNNT\\tNNT\\tgen=F|num=S\\t1\\n0\\t1\\tגננת\\tגננת\\tNN\\tNN\\tgen=F|num=S\\t1\\n0\\t1\\tגננת\\tגינן\\tVB\\tVB\\tgen=M|num=S|per=2|tense=PAST\\t1\\n1\\t2\\tגידלה\\tגידל\\tVB\\tVB\\tgen=F|num=S|per=3|tense=PAST\\t2\\n2\\t3\\tדג\\tדג\\tBN\\tBN\\tgen=M|num=S|per=A\\t3\\n2\\t5\\tדגן\\tדגן\\tNNP\\tNNP\\tgen=M|num=S\\t3\\n2\\t5\\tדגן\\tדג\\tNN\\tNN\\tgen=M|num=S|suf_gen=F|suf_num=P|suf_per=3\\t3\\n2\\t5\\tדגן\\tדגן\\tNN\\tNN\\tgen=M|num=S\\t3\\n2\\t5\\tדגן\\tדגן\\tNNT\\tNNT\\tgen=M|num=S\\t3\\n3\\t4\\tאת\\tאת\\tPOS\\tPOS\\t_\\t3\\n4\\t5\\tהן\\tהן\\tS_PRN\\tS_PRN\\tgen=F|num=P|per=3\\t3\\n5\\t6\\tב\\tב\\tPREPOSITION\\tPREPOSITION\\t_\\t4\\n5\\t8\\tבגן\\tבגן\\tNNP\\tNNP\\tgen=M|num=S\\t4\\n5\\t8\\tבגן\\tבגן\\tNN\\tNN\\tgen=M|num=P|num=S\\t4\\n5\\t8\\tבגן\\tבגן\\tNN\\tNN\\tgen=M|num=S\\t4\\n5\\t8\\tבגן\\tבגן\\tNNP\\tNNP\\tgen=F|num=S\\t4\\n5\\t8\\tבגן\\tבגן\\tNNP\\tNNP\\tgen=F|gen=M|num=S\\t4\\n5\\t8\\tבגן\\tבגן\\tNNP\\tNNP\\t_\\t4\\n5\\t8\\tבגן\\tבגן\\tNN\\tNN\\tgen=M|num=P\\t4\\n5\\t8\\tבגן\\tבגן\\tNN\\tNN\\tgen=F|num=S\\t4\\n5\\t8\\tבגן\\tבגן\\tNN\\tNN\\tgen=F|num=P\\t4\\n6\\t8\\tגן\\tגן\\tNN\\tNN\\tgen=M|num=S\\t4\\n6\\t8\\tגן\\tגן\\tNNT\\tNNT\\tgen=M|num=S\\t4\\n6\\t7\\tה\\tה\\tDEF\\tDEF\\t_\\t4\\n7\\t8\\tגן\\tגן\\tNNT\\tNNT\\tgen=M|num=S\\t4\\n7\\t8\\tגן\\tגן\\tNN\\tNN\\tgen=M|num=S\\t4\\n\\n\",\"md_lattice\":\"0\\t1\\tגננת\\tגננת\\tNN\\tNN\\tgen=F|num=S\\t1\\n1\\t2\\tגידלה\\tגידל\\tVB\\tVB\\tgen=F|num=S|per=3|tense=PAST\\t2\\n2\\t3\\tדגן\\tדגן\\tNN\\tNN\\tgen=M|num=S\\t3\\n3\\t4\\tב\\tב\\tPREPOSITION\\tPREPOSITION\\t_\\t4\\n4\\t5\\tה\\tה\\tDEF\\tDEF\\t_\\t4\\n5\\t6\\tגן\\tגן\\tNN\\tNN\\tgen=M|num=S\\t4\\n\\n\",\"dep_tree\":\"1\\tגננת\\tגננת\\tNN\\tNN\\tgen=F|num=S\\t2\\tsubj\\t_\\t_\\n2\\tגידלה\\tגידל\\tVB\\tVB\\tgen=F|num=S|per=3|tense=PAST\\t0\\tROOT\\t_\\t_\\n3\\tדגן\\tדגן\\tNN\\tNN\\tgen=M|num=S\\t2\\tobj\\t_\\t_\\n4\\tב\\tב\\tPREPOSITION\\tPREPOSITION\\t\\t2\\tprepmod\\t_\\t_\\n5\\tה\\tה\\tDEF\\tDEF\\t\\t6\\tdef\\t_\\t_\\n6\\tגן\\tגן\\tNN\\tNN\\tgen=M|num=S\\t4\\tpobj\\t_\\t_\\n\\n\"}\n"
     ]
    }
   ],
   "source": [
    "text = result.decode('utf-8')\n",
    "print(text)"
   ]
  },
  {
   "cell_type": "code",
   "execution_count": 42,
   "metadata": {},
   "outputs": [],
   "source": [
    "d = json.loads(text)"
   ]
  },
  {
   "cell_type": "code",
   "execution_count": 43,
   "metadata": {},
   "outputs": [
    {
     "name": "stdout",
     "output_type": "stream",
     "text": [
      "0\t1\tגננת\tגינן\tVB\tVB\tgen=F|num=S|per=2|tense=PAST\t1\n",
      "0\t1\tגננת\tגננת\tNNT\tNNT\tgen=F|num=S\t1\n",
      "0\t1\tגננת\tגננת\tNN\tNN\tgen=F|num=S\t1\n",
      "0\t1\tגננת\tגינן\tVB\tVB\tgen=M|num=S|per=2|tense=PAST\t1\n",
      "1\t2\tגידלה\tגידל\tVB\tVB\tgen=F|num=S|per=3|tense=PAST\t2\n",
      "2\t3\tדג\tדג\tBN\tBN\tgen=M|num=S|per=A\t3\n",
      "2\t5\tדגן\tדגן\tNNP\tNNP\tgen=M|num=S\t3\n",
      "2\t5\tדגן\tדג\tNN\tNN\tgen=M|num=S|suf_gen=F|suf_num=P|suf_per=3\t3\n",
      "2\t5\tדגן\tדגן\tNN\tNN\tgen=M|num=S\t3\n",
      "2\t5\tדגן\tדגן\tNNT\tNNT\tgen=M|num=S\t3\n",
      "3\t4\tאת\tאת\tPOS\tPOS\t_\t3\n",
      "4\t5\tהן\tהן\tS_PRN\tS_PRN\tgen=F|num=P|per=3\t3\n",
      "5\t6\tב\tב\tPREPOSITION\tPREPOSITION\t_\t4\n",
      "5\t8\tבגן\tבגן\tNNP\tNNP\tgen=M|num=S\t4\n",
      "5\t8\tבגן\tבגן\tNN\tNN\tgen=M|num=P|num=S\t4\n",
      "5\t8\tבגן\tבגן\tNN\tNN\tgen=M|num=S\t4\n",
      "5\t8\tבגן\tבגן\tNNP\tNNP\tgen=F|num=S\t4\n",
      "5\t8\tבגן\tבגן\tNNP\tNNP\tgen=F|gen=M|num=S\t4\n",
      "5\t8\tבגן\tבגן\tNNP\tNNP\t_\t4\n",
      "5\t8\tבגן\tבגן\tNN\tNN\tgen=M|num=P\t4\n",
      "5\t8\tבגן\tבגן\tNN\tNN\tgen=F|num=S\t4\n",
      "5\t8\tבגן\tבגן\tNN\tNN\tgen=F|num=P\t4\n",
      "6\t8\tגן\tגן\tNN\tNN\tgen=M|num=S\t4\n",
      "6\t8\tגן\tגן\tNNT\tNNT\tgen=M|num=S\t4\n",
      "6\t7\tה\tה\tDEF\tDEF\t_\t4\n",
      "7\t8\tגן\tגן\tNNT\tNNT\tgen=M|num=S\t4\n",
      "7\t8\tגן\tגן\tNN\tNN\tgen=M|num=S\t4\n",
      "\n",
      "\n"
     ]
    }
   ],
   "source": [
    "print(d['ma_lattice'])"
   ]
  },
  {
   "cell_type": "code",
   "execution_count": 44,
   "metadata": {},
   "outputs": [
    {
     "name": "stdout",
     "output_type": "stream",
     "text": [
      "1\tגננת\tגננת\tNN\tNN\tgen=F|num=S\t2\tsubj\t_\t_\n",
      "2\tגידלה\tגידל\tVB\tVB\tgen=F|num=S|per=3|tense=PAST\t0\tROOT\t_\t_\n",
      "3\tדגן\tדגן\tNN\tNN\tgen=M|num=S\t2\tobj\t_\t_\n",
      "4\tב\tב\tPREPOSITION\tPREPOSITION\t\t2\tprepmod\t_\t_\n",
      "5\tה\tה\tDEF\tDEF\t\t6\tdef\t_\t_\n",
      "6\tגן\tגן\tNN\tNN\tgen=M|num=S\t4\tpobj\t_\t_\n",
      "\n",
      "\n"
     ]
    }
   ],
   "source": [
    "print(d['dep_tree'])"
   ]
  },
  {
   "cell_type": "code",
   "execution_count": 45,
   "metadata": {},
   "outputs": [
    {
     "name": "stdout",
     "output_type": "stream",
     "text": [
      "0\t1\tגננת\tגננת\tNN\tNN\tgen=F|num=S\t1\n",
      "1\t2\tגידלה\tגידל\tVB\tVB\tgen=F|num=S|per=3|tense=PAST\t2\n",
      "2\t3\tדגן\tדגן\tNN\tNN\tgen=M|num=S\t3\n",
      "3\t4\tב\tב\tPREPOSITION\tPREPOSITION\t_\t4\n",
      "4\t5\tה\tה\tDEF\tDEF\t_\t4\n",
      "5\t6\tגן\tגן\tNN\tNN\tgen=M|num=S\t4\n",
      "\n",
      "\n"
     ]
    }
   ],
   "source": [
    "print(d['md_lattice'])"
   ]
  },
  {
   "cell_type": "code",
   "execution_count": 46,
   "metadata": {},
   "outputs": [
    {
     "data": {
      "text/plain": [
       "'0\\t1\\tגננת\\tגננת\\tNN\\tNN\\tgen=F|num=S\\t1\\n1\\t2\\tגידלה\\tגידל\\tVB\\tVB\\tgen=F|num=S|per=3|tense=PAST\\t2\\n2\\t3\\tדגן\\tדגן\\tNN\\tNN\\tgen=M|num=S\\t3\\n3\\t4\\tב\\tב\\tPREPOSITION\\tPREPOSITION\\t_\\t4\\n4\\t5\\tה\\tה\\tDEF\\tDEF\\t_\\t4\\n5\\t6\\tגן\\tגן\\tNN\\tNN\\tgen=M|num=S\\t4\\n\\n'"
      ]
     },
     "execution_count": 46,
     "metadata": {},
     "output_type": "execute_result"
    }
   ],
   "source": [
    "txt = d['md_lattice']\n",
    "txt"
   ]
  },
  {
   "cell_type": "code",
   "execution_count": 47,
   "metadata": {},
   "outputs": [],
   "source": [
    "import re"
   ]
  },
  {
   "cell_type": "code",
   "execution_count": 69,
   "metadata": {},
   "outputs": [
    {
     "name": "stdout",
     "output_type": "stream",
     "text": [
      "['0', '1', 'גננת', 'גננת', 'NN', 'NN', 'gen=F|num=S', '1\\n1', '2', 'גידלה', 'גידל', 'VB', 'VB', 'gen=F|num=S|per=3|tense=PAST', '2\\n2', '3', 'דגן', 'דגן', 'NN', 'NN', 'gen=M|num=S', '3\\n3', '4', 'ב', 'ב', 'PREPOSITION', 'PREPOSITION', '_', '4\\n4', '5', 'ה', 'ה', 'DEF', 'DEF', '_', '4\\n5', '6', 'גן', 'גן', 'NN', 'NN', 'gen=M|num=S', '4\\n\\n']\n"
     ]
    }
   ],
   "source": [
    "tokens = re.split(\"\\t\", txt)\n",
    "print(x)"
   ]
  },
  {
   "cell_type": "code",
   "execution_count": 80,
   "metadata": {},
   "outputs": [],
   "source": [
    "df = []\n",
    "line = []\n",
    "for t in tokens:\n",
    "    if '\\n' in t:\n",
    "        line.append(re.split(\"\\n\", t)[0])\n",
    "        df.append(line)\n",
    "        line = [] \n",
    "        line.append(re.split(\"\\n\", t)[1])\n",
    "    else:\n",
    "        line.append(t)\n"
   ]
  },
  {
   "cell_type": "code",
   "execution_count": 82,
   "metadata": {},
   "outputs": [],
   "source": [
    "import pandas as pd"
   ]
  },
  {
   "cell_type": "code",
   "execution_count": 83,
   "metadata": {},
   "outputs": [
    {
     "data": {
      "text/plain": [
       "[['0', '1', 'גננת', 'גננת', 'NN', 'NN', 'gen=F|num=S', '1'],\n",
       " ['1', '2', 'גידלה', 'גידל', 'VB', 'VB', 'gen=F|num=S|per=3|tense=PAST', '2'],\n",
       " ['2', '3', 'דגן', 'דגן', 'NN', 'NN', 'gen=M|num=S', '3'],\n",
       " ['3', '4', 'ב', 'ב', 'PREPOSITION', 'PREPOSITION', '_', '4'],\n",
       " ['4', '5', 'ה', 'ה', 'DEF', 'DEF', '_', '4'],\n",
       " ['5', '6', 'גן', 'גן', 'NN', 'NN', 'gen=M|num=S', '4']]"
      ]
     },
     "execution_count": 83,
     "metadata": {},
     "output_type": "execute_result"
    }
   ],
   "source": [
    "df"
   ]
  },
  {
   "cell_type": "code",
   "execution_count": 84,
   "metadata": {},
   "outputs": [
    {
     "data": {
      "text/html": [
       "<div>\n",
       "<style scoped>\n",
       "    .dataframe tbody tr th:only-of-type {\n",
       "        vertical-align: middle;\n",
       "    }\n",
       "\n",
       "    .dataframe tbody tr th {\n",
       "        vertical-align: top;\n",
       "    }\n",
       "\n",
       "    .dataframe thead th {\n",
       "        text-align: right;\n",
       "    }\n",
       "</style>\n",
       "<table border=\"1\" class=\"dataframe\">\n",
       "  <thead>\n",
       "    <tr style=\"text-align: right;\">\n",
       "      <th></th>\n",
       "      <th>0</th>\n",
       "      <th>1</th>\n",
       "      <th>2</th>\n",
       "      <th>3</th>\n",
       "      <th>4</th>\n",
       "      <th>5</th>\n",
       "      <th>6</th>\n",
       "      <th>7</th>\n",
       "    </tr>\n",
       "  </thead>\n",
       "  <tbody>\n",
       "    <tr>\n",
       "      <td>0</td>\n",
       "      <td>0</td>\n",
       "      <td>1</td>\n",
       "      <td>גננת</td>\n",
       "      <td>גננת</td>\n",
       "      <td>NN</td>\n",
       "      <td>NN</td>\n",
       "      <td>gen=F|num=S</td>\n",
       "      <td>1</td>\n",
       "    </tr>\n",
       "    <tr>\n",
       "      <td>1</td>\n",
       "      <td>1</td>\n",
       "      <td>2</td>\n",
       "      <td>גידלה</td>\n",
       "      <td>גידל</td>\n",
       "      <td>VB</td>\n",
       "      <td>VB</td>\n",
       "      <td>gen=F|num=S|per=3|tense=PAST</td>\n",
       "      <td>2</td>\n",
       "    </tr>\n",
       "    <tr>\n",
       "      <td>2</td>\n",
       "      <td>2</td>\n",
       "      <td>3</td>\n",
       "      <td>דגן</td>\n",
       "      <td>דגן</td>\n",
       "      <td>NN</td>\n",
       "      <td>NN</td>\n",
       "      <td>gen=M|num=S</td>\n",
       "      <td>3</td>\n",
       "    </tr>\n",
       "    <tr>\n",
       "      <td>3</td>\n",
       "      <td>3</td>\n",
       "      <td>4</td>\n",
       "      <td>ב</td>\n",
       "      <td>ב</td>\n",
       "      <td>PREPOSITION</td>\n",
       "      <td>PREPOSITION</td>\n",
       "      <td>_</td>\n",
       "      <td>4</td>\n",
       "    </tr>\n",
       "    <tr>\n",
       "      <td>4</td>\n",
       "      <td>4</td>\n",
       "      <td>5</td>\n",
       "      <td>ה</td>\n",
       "      <td>ה</td>\n",
       "      <td>DEF</td>\n",
       "      <td>DEF</td>\n",
       "      <td>_</td>\n",
       "      <td>4</td>\n",
       "    </tr>\n",
       "    <tr>\n",
       "      <td>5</td>\n",
       "      <td>5</td>\n",
       "      <td>6</td>\n",
       "      <td>גן</td>\n",
       "      <td>גן</td>\n",
       "      <td>NN</td>\n",
       "      <td>NN</td>\n",
       "      <td>gen=M|num=S</td>\n",
       "      <td>4</td>\n",
       "    </tr>\n",
       "  </tbody>\n",
       "</table>\n",
       "</div>"
      ],
      "text/plain": [
       "   0  1      2     3            4            5                             6  \\\n",
       "0  0  1   גננת  גננת           NN           NN                   gen=F|num=S   \n",
       "1  1  2  גידלה  גידל           VB           VB  gen=F|num=S|per=3|tense=PAST   \n",
       "2  2  3    דגן   דגן           NN           NN                   gen=M|num=S   \n",
       "3  3  4      ב     ב  PREPOSITION  PREPOSITION                             _   \n",
       "4  4  5      ה     ה          DEF          DEF                             _   \n",
       "5  5  6     גן    גן           NN           NN                   gen=M|num=S   \n",
       "\n",
       "   7  \n",
       "0  1  \n",
       "1  2  \n",
       "2  3  \n",
       "3  4  \n",
       "4  4  \n",
       "5  4  "
      ]
     },
     "execution_count": 84,
     "metadata": {},
     "output_type": "execute_result"
    }
   ],
   "source": [
    "df = pd.DataFrame(df)\n",
    "df"
   ]
  },
  {
   "cell_type": "code",
   "execution_count": 85,
   "metadata": {},
   "outputs": [
    {
     "data": {
      "text/html": [
       "<div>\n",
       "<style scoped>\n",
       "    .dataframe tbody tr th:only-of-type {\n",
       "        vertical-align: middle;\n",
       "    }\n",
       "\n",
       "    .dataframe tbody tr th {\n",
       "        vertical-align: top;\n",
       "    }\n",
       "\n",
       "    .dataframe thead th {\n",
       "        text-align: right;\n",
       "    }\n",
       "</style>\n",
       "<table border=\"1\" class=\"dataframe\">\n",
       "  <thead>\n",
       "    <tr style=\"text-align: right;\">\n",
       "      <th></th>\n",
       "      <th>2</th>\n",
       "      <th>4</th>\n",
       "      <th>6</th>\n",
       "      <th>7</th>\n",
       "    </tr>\n",
       "  </thead>\n",
       "  <tbody>\n",
       "    <tr>\n",
       "      <td>0</td>\n",
       "      <td>גננת</td>\n",
       "      <td>NN</td>\n",
       "      <td>gen=F|num=S</td>\n",
       "      <td>1</td>\n",
       "    </tr>\n",
       "    <tr>\n",
       "      <td>1</td>\n",
       "      <td>גידלה</td>\n",
       "      <td>VB</td>\n",
       "      <td>gen=F|num=S|per=3|tense=PAST</td>\n",
       "      <td>2</td>\n",
       "    </tr>\n",
       "    <tr>\n",
       "      <td>2</td>\n",
       "      <td>דגן</td>\n",
       "      <td>NN</td>\n",
       "      <td>gen=M|num=S</td>\n",
       "      <td>3</td>\n",
       "    </tr>\n",
       "    <tr>\n",
       "      <td>3</td>\n",
       "      <td>ב</td>\n",
       "      <td>PREPOSITION</td>\n",
       "      <td>_</td>\n",
       "      <td>4</td>\n",
       "    </tr>\n",
       "    <tr>\n",
       "      <td>4</td>\n",
       "      <td>ה</td>\n",
       "      <td>DEF</td>\n",
       "      <td>_</td>\n",
       "      <td>4</td>\n",
       "    </tr>\n",
       "    <tr>\n",
       "      <td>5</td>\n",
       "      <td>גן</td>\n",
       "      <td>NN</td>\n",
       "      <td>gen=M|num=S</td>\n",
       "      <td>4</td>\n",
       "    </tr>\n",
       "  </tbody>\n",
       "</table>\n",
       "</div>"
      ],
      "text/plain": [
       "       2            4                             6  7\n",
       "0   גננת           NN                   gen=F|num=S  1\n",
       "1  גידלה           VB  gen=F|num=S|per=3|tense=PAST  2\n",
       "2    דגן           NN                   gen=M|num=S  3\n",
       "3      ב  PREPOSITION                             _  4\n",
       "4      ה          DEF                             _  4\n",
       "5     גן           NN                   gen=M|num=S  4"
      ]
     },
     "execution_count": 85,
     "metadata": {},
     "output_type": "execute_result"
    }
   ],
   "source": [
    "df.drop([0,1,3,5], axis=1)"
   ]
  },
  {
   "cell_type": "code",
   "execution_count": null,
   "metadata": {},
   "outputs": [],
   "source": []
  }
 ],
 "metadata": {
  "kernelspec": {
   "display_name": "Python 3",
   "language": "python",
   "name": "python3"
  },
  "language_info": {
   "codemirror_mode": {
    "name": "ipython",
    "version": 3
   },
   "file_extension": ".py",
   "mimetype": "text/x-python",
   "name": "python",
   "nbconvert_exporter": "python",
   "pygments_lexer": "ipython3",
   "version": "3.7.4"
  }
 },
 "nbformat": 4,
 "nbformat_minor": 2
}
