{
 "cells": [
  {
   "cell_type": "code",
   "execution_count": 1,
   "metadata": {},
   "outputs": [],
   "source": [
    "from bs4 import BeautifulSoup\n",
    "import requests\n",
    "import json"
   ]
  },
  {
   "cell_type": "code",
   "execution_count": 2,
   "metadata": {},
   "outputs": [],
   "source": [
    "data1 = []"
   ]
  },
  {
   "cell_type": "code",
   "execution_count": 3,
   "metadata": {},
   "outputs": [],
   "source": [
    "def fetch_url(url):\n",
    "    r = requests.get(url)\n",
    "    data = r.text\n",
    "    soup = BeautifulSoup(data, 'html.parser')\n",
    "    return soup"
   ]
  },
  {
   "cell_type": "markdown",
   "metadata": {},
   "source": [
    "### Fetching Mako N12"
   ]
  },
  {
   "cell_type": "code",
   "execution_count": 5,
   "metadata": {},
   "outputs": [],
   "source": [
    "for i in range(1,217):\n",
    "    try:\n",
    "        soup = fetch_url('https://www.mako.co.il/news-entertainment?page='+str(i))\n",
    "        class_ = soup.findAll(\"li\")\n",
    "        for c in class_:\n",
    "            try:\n",
    "                a = c.findAll(\"a\")\n",
    "                img = c.find(\"img\")       \n",
    "                data1.append({\n",
    "                \"source\" : \"Mako\",\n",
    "                \"header\" : str(a[1].text),\n",
    "                \"sub_header\" : str(a[2].text),\n",
    "                \"img\" : str(c.find(\"img\")['src'])\n",
    "                })\n",
    "            except:\n",
    "                continue\n",
    "    except:\n",
    "        print(\"exception \"+str(i))\n",
    "        continue"
   ]
  },
  {
   "cell_type": "markdown",
   "metadata": {},
   "source": [
    "### Fetching Pplus"
   ]
  },
  {
   "cell_type": "code",
   "execution_count": 7,
   "metadata": {},
   "outputs": [],
   "source": [
    "soup = fetch_url('https://pplus.ynet.co.il/home/0,7340,L-11211,00.html')\n",
    "class_ = soup.findAll(\"div\", {\"class\": \"gspp\"})\n",
    "for c in class_:\n",
    "    try:\n",
    "        a = c.findAll('a')\n",
    "        img = c.find(\"img\")   \n",
    "        data1.append({\n",
    "        \"source\" : \"Pplus\",\n",
    "        \"header\" : str(a[0].text),  \n",
    "        \"sub_header\" : str(a[1].text),\n",
    "        \"img\" : str(img['src'])\n",
    "        })\n",
    "    except:\n",
    "        continue"
   ]
  },
  {
   "cell_type": "markdown",
   "metadata": {},
   "source": [
    "### Fetching Maariv (TMI)"
   ]
  },
  {
   "cell_type": "code",
   "execution_count": 8,
   "metadata": {},
   "outputs": [],
   "source": [
    "soup = fetch_url('https://tmi.maariv.co.il/celebs-news')\n",
    "class_ = soup.findAll(\"div\", {\"class\": \"list-article-item\"})\n",
    "for c in class_:\n",
    "    try:\n",
    "        span = c.findAll('span')\n",
    "        div = c.findAll('div')[1]\n",
    "        img = div.find(\"img\", {\"class\": \"lazy\"})   \n",
    "        data1.append({\n",
    "        \"source\" : \"TMI\",\n",
    "        \"header\" : str(span[0].text),  \n",
    "        \"sub_header\" : str(span[1].text),\n",
    "        \"img\" : str(img['data-src'])\n",
    "        })\n",
    "    except:\n",
    "        continue"
   ]
  },
  {
   "cell_type": "markdown",
   "metadata": {},
   "source": [
    "### Extract JSON"
   ]
  },
  {
   "cell_type": "code",
   "execution_count": 16,
   "metadata": {},
   "outputs": [],
   "source": [
    "data1 = {\"data\":data1}"
   ]
  },
  {
   "cell_type": "code",
   "execution_count": 13,
   "metadata": {},
   "outputs": [],
   "source": [
    "with open(\"data1.json\",\"w\", encoding='utf-8') as jsonfile:\n",
    "        json.dump(data1,jsonfile,ensure_ascii=False)"
   ]
  },
  {
   "cell_type": "code",
   "execution_count": null,
   "metadata": {},
   "outputs": [],
   "source": []
  }
 ],
 "metadata": {
  "kernelspec": {
   "display_name": "Python 3",
   "language": "python",
   "name": "python3"
  },
  "language_info": {
   "codemirror_mode": {
    "name": "ipython",
    "version": 3
   },
   "file_extension": ".py",
   "mimetype": "text/x-python",
   "name": "python",
   "nbconvert_exporter": "python",
   "pygments_lexer": "ipython3",
   "version": "3.7.4"
  }
 },
 "nbformat": 4,
 "nbformat_minor": 2
}
